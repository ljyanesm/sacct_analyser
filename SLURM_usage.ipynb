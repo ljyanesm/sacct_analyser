{
 "cells": [
  {
   "cell_type": "code",
   "execution_count": null,
   "metadata": {
    "collapsed": false
   },
   "outputs": [],
   "source": [
    "# import matplotlib.pylab as plt\n",
    "%pylab inline"
   ]
  },
  {
   "cell_type": "code",
   "execution_count": null,
   "metadata": {
    "collapsed": true
   },
   "outputs": [],
   "source": [
    "from pandas.tools.plotting import scatter_matrix"
   ]
  },
  {
   "cell_type": "code",
   "execution_count": null,
   "metadata": {
    "collapsed": true
   },
   "outputs": [],
   "source": [
    "import datetime\n",
    "import glob\n",
    "import re\n",
    "import time"
   ]
  },
  {
   "cell_type": "code",
   "execution_count": null,
   "metadata": {
    "collapsed": false
   },
   "outputs": [],
   "source": [
    "import pandas as pd"
   ]
  },
  {
   "cell_type": "code",
   "execution_count": null,
   "metadata": {
    "collapsed": false
   },
   "outputs": [],
   "source": [
    "# Number of lines containing ALL the jobs, 6898016\n",
    "# Number of lines after filtering INVALID jobs, 2591267\n",
    "perc_valid = 2591267./6898016.\n",
    "print perc_valid\n",
    "print \"User's have to launch a job 3 times in average\""
   ]
  },
  {
   "cell_type": "code",
   "execution_count": null,
   "metadata": {
    "collapsed": true
   },
   "outputs": [],
   "source": [
    "# Almost 40% of the jobs this year have been invalid"
   ]
  },
  {
   "cell_type": "code",
   "execution_count": null,
   "metadata": {
    "collapsed": false
   },
   "outputs": [],
   "source": [
    "myfields = [u'JobID', u'JobIDRaw', u'AllocCPUS', u'AveCPU', u'AveDiskRead', u'AveDiskWrite',\n",
    "                   u'AvePages', u'AveRSS', u'Comment', u'CPUTime', u'CPUTimeRAW',\n",
    "                   u'DerivedExitCode', u'Elapsed', u'Eligible', u'End', u'ExitCode',\n",
    "                   u'MaxDiskRead', u'MaxDiskReadNode', u'MaxDiskReadTask', u'MaxDiskWrite',\n",
    "                   u'MaxDiskWriteNode', u'MaxDiskWriteTask', u'MaxPages', u'MaxPagesNode',\n",
    "                   u'MaxPagesTask', u'MaxRSS', u'MaxRSSNode', u'MaxRSSTask', u'MaxVMSize',\n",
    "                   u'MaxVMSizeNode', u'MaxVMSizeTask', u'MinCPU', u'MinCPUNode', u'MinCPUTask',\n",
    "                   u'NCPUS', u'NNodes', u'NTasks', u'Partition', u'ReqCPUS', u'ReqMem',\n",
    "                   u'Start', u'State', u'Submit', u'SystemCPU', u'Timelimit', u'TotalCPU',\n",
    "                   u'User', u'UserCPU']"
   ]
  },
  {
   "cell_type": "code",
   "execution_count": null,
   "metadata": {
    "collapsed": false
   },
   "outputs": [],
   "source": [
    "#myfields"
   ]
  },
  {
   "cell_type": "code",
   "execution_count": null,
   "metadata": {
    "collapsed": false
   },
   "outputs": [],
   "source": [
    "data = pd.read_csv('./2015-2016_valid.csv', delimiter = '|', usecols=myfields, low_memory=False)\n",
    "data = data[~data.User.isnull()]\n",
    "original_data = data\n",
    "data = data[(data.Partition == 'tgac-short') | (data.Partition == 'tgac-medium') | (data.Partition == 'tgac-long')]"
   ]
  },
  {
   "cell_type": "code",
   "execution_count": null,
   "metadata": {
    "collapsed": false
   },
   "outputs": [],
   "source": [
    "# print data.columns\n",
    "# print data.shape"
   ]
  },
  {
   "cell_type": "code",
   "execution_count": null,
   "metadata": {
    "collapsed": false
   },
   "outputs": [],
   "source": [
    "data.AllocCPUS.unique()"
   ]
  },
  {
   "cell_type": "code",
   "execution_count": null,
   "metadata": {
    "collapsed": false
   },
   "outputs": [],
   "source": [
    "data = original_data[(original_data.Partition == 'tgac-short') | (original_data.Partition == 'tgac-medium') | (original_data.Partition == 'tgac-long')]"
   ]
  },
  {
   "cell_type": "code",
   "execution_count": null,
   "metadata": {
    "collapsed": false
   },
   "outputs": [],
   "source": [
    "#data = read_data"
   ]
  },
  {
   "cell_type": "code",
   "execution_count": null,
   "metadata": {
    "collapsed": false
   },
   "outputs": [],
   "source": [
    "# data.ReqMem.unique()"
   ]
  },
  {
   "cell_type": "code",
   "execution_count": null,
   "metadata": {
    "collapsed": false
   },
   "outputs": [],
   "source": [
    "original_data = original_data[original_data.Partition == 'tgac-seed']"
   ]
  },
  {
   "cell_type": "code",
   "execution_count": null,
   "metadata": {
    "collapsed": false
   },
   "outputs": [],
   "source": [
    "original_data.User.unique()"
   ]
  },
  {
   "cell_type": "code",
   "execution_count": null,
   "metadata": {
    "collapsed": false
   },
   "outputs": [],
   "source": [
    "monthly_mean = data[['User']].groupby([data.Submit.map(lambda x: datetime.datetime.strptime(\"%s-%s\" %(x.year, x.month), \"%Y-%m\"))]).agg({'User': pd.Series.nunique})"
   ]
  },
  {
   "cell_type": "code",
   "execution_count": null,
   "metadata": {
    "collapsed": false
   },
   "outputs": [],
   "source": [
    "monthly_mean.columns"
   ]
  },
  {
   "cell_type": "code",
   "execution_count": null,
   "metadata": {
    "collapsed": false
   },
   "outputs": [],
   "source": [
    "plt.figure(figsize=(10,5))\n",
    "plt.plot(monthly_mean)\n",
    "plt.ylabel(\"# Distinct Users\")\n",
    "plt.xticks(rotation=70)\n",
    "plt.show()"
   ]
  },
  {
   "cell_type": "code",
   "execution_count": null,
   "metadata": {
    "collapsed": false
   },
   "outputs": [],
   "source": [
    "def parse_date(duration):\n",
    "    sline = duration.split(\"-\")\n",
    "    if len(sline)>1:\n",
    "        hh = sline[1].split(\":\")\n",
    "        hours = int(sline[0])*24 + int(hh[0]) + (float(hh[1])/60) \n",
    "    elif len(sline) == 1:\n",
    "        hh = sline[0].split(\":\")\n",
    "        if len(hh) == 1:\n",
    "            return 0\n",
    "        else:\n",
    "            hours = int(hh[0]) + (float(hh[1])/60) \n",
    "    else:\n",
    "        hours = 0\n",
    "    return hours\n",
    "\n",
    "def parse_memory(x):\n",
    "    cpus = x['NCPUS']\n",
    "  \n",
    "    memlist = re.split(\"([M,c,G,T,n])\", x['ReqMem'])\n",
    "    mem = memlist[0]\n",
    "    units = memlist[1]\n",
    "    if 'c' in units:\n",
    "        tot_mem = cpus*float(mem)\n",
    "    else:\n",
    "        tot_mem = float(mem)\n",
    "    \n",
    "    if 'G' in x['ReqMem']:\n",
    "        tot_mem *= 1\n",
    "    elif 'T' in x['ReqMem']:\n",
    "        tot_mem *= 1000\n",
    "    else:\n",
    "        tot_mem *= 0.001\n",
    "    return tot_mem\n",
    "\n",
    "def parse_date_end(s):\n",
    "    if s == \"Unknown\":\n",
    "        date = np.nan\n",
    "    else:\n",
    "        date = datetime.datetime.strptime(s, \"%Y-%m-%dT%H:%M:%S\")\n",
    "    return date\n",
    "\n",
    "def parse_maxRss(x):\n",
    "    if x != np.nan and type(x) == str:\n",
    "        mem = float(x.strip('K'))*0.000001\n",
    "    else:\n",
    "        mem = 0\n",
    "    return mem"
   ]
  },
  {
   "cell_type": "code",
   "execution_count": null,
   "metadata": {
    "collapsed": false
   },
   "outputs": [],
   "source": [
    "data['tiempo'] = data['Elapsed'].apply(parse_date)\n",
    "data['RQTMem'] = data.apply(parse_memory, axis=1)\n",
    "data['Start'] = data.Start.apply(parse_date_end)\n",
    "data['Submit'] = data.Submit.apply(lambda x: datetime.datetime.strptime(x, \"%Y-%m-%dT%H:%M:%S\"))\n",
    "data['End'] = data.End.apply(parse_date_end)\n",
    "data['MaxRSS'] = data.MaxRSS.apply(parse_maxRss)\n",
    "data['AllocCPUS'] = data.AllocCPUS.apply(pd.to_numeric)"
   ]
  },
  {
   "cell_type": "code",
   "execution_count": null,
   "metadata": {
    "collapsed": false
   },
   "outputs": [],
   "source": [
    "data['Comment'] = 1\n",
    "data['RExitCode'] = data.ExitCode.apply(lambda x: int(x.split(':')[0]) if x.split(':')[0] > 127 else int(x.split(':')[0])-128)"
   ]
  },
  {
   "cell_type": "code",
   "execution_count": null,
   "metadata": {
    "collapsed": true
   },
   "outputs": [],
   "source": [
    "udata = data[data.Start.notnull() & data.End.notnull()]"
   ]
  },
  {
   "cell_type": "code",
   "execution_count": null,
   "metadata": {
    "collapsed": false
   },
   "outputs": [],
   "source": [
    "print len(data)\n",
    "print data[(data.RQTMem<256)].RQTMem.count()"
   ]
  },
  {
   "cell_type": "code",
   "execution_count": null,
   "metadata": {
    "collapsed": false
   },
   "outputs": [],
   "source": [
    "series = data[data.RQTMem<256].RQTMem\n",
    "fig, ax = plt.subplots()\n",
    "series.hist(ax=ax, bins=100)\n",
    "ax.set_yscale('log')"
   ]
  },
  {
   "cell_type": "code",
   "execution_count": null,
   "metadata": {
    "collapsed": false
   },
   "outputs": [],
   "source": [
    "series = data[data.RQTMem<126].RQTMem\n",
    "plt.figure(figsize=(10,10))\n",
    "series.hist(log=True, bins=25)\n",
    "plt.xticks(np.arange(min(series), max(series)+1, 8.0));\n",
    "plt.ylabel(\"Log(Frequency)\")\n",
    "plt.xlabel(\"Requested RAM\")\n",
    "plt.xlim([0,130]);"
   ]
  },
  {
   "cell_type": "code",
   "execution_count": null,
   "metadata": {
    "collapsed": false
   },
   "outputs": [],
   "source": [
    "series = data[(data.RQTMem>128) & (data.RQTMem<500)].RQTMem\n",
    "plt.figure(figsize=(10,10))\n",
    "series.hist(log=True, bins=25)\n",
    "#plt.xticks(np.arange(min(series), max(series)+1, 8.0));\n",
    "plt.ylabel(\"Log(Frequency)\")\n",
    "plt.xlabel(\"Requested RAM > 128\")"
   ]
  },
  {
   "cell_type": "code",
   "execution_count": null,
   "metadata": {
    "collapsed": false
   },
   "outputs": [],
   "source": [
    "## filter user\n",
    "# udata = data[data.User=='yanesl']\n",
    "#udata = data\n",
    "\n",
    "# get monthly data\n",
    "monthly_mean = udata[['RQTMem', 'MaxRSS']].groupby([udata.Submit.map(lambda x: datetime.datetime.strptime(\"%s-%s\" %(x.year, x.month), \"%Y-%m\"))]).agg([np.mean, np.sum])"
   ]
  },
  {
   "cell_type": "code",
   "execution_count": null,
   "metadata": {
    "collapsed": false
   },
   "outputs": [],
   "source": [
    "monthly_mean.RQTMem"
   ]
  },
  {
   "cell_type": "code",
   "execution_count": null,
   "metadata": {
    "collapsed": false,
    "scrolled": true
   },
   "outputs": [],
   "source": [
    "plt.figure(figsize=(10,5))\n",
    "plt.plot(monthly_mean.RQTMem['sum']/1344000. * 100, label=\"RAM Requested\")\n",
    "plt.axhline(y=100, color=\"red\", label=\"RAM Available\")\n",
    "plt.ylabel(\"Requested/Available ratio in %\")\n",
    "plt.xticks(rotation=70)\n",
    "plt.show()\n"
   ]
  },
  {
   "cell_type": "code",
   "execution_count": null,
   "metadata": {
    "collapsed": false
   },
   "outputs": [],
   "source": [
    "print \"Monthly maximum RSS\"\n",
    "print monthly_mean.MaxRSS['sum']\n",
    "print \"\\n\\nMonthly RSS/available rate\"\n",
    "print monthly_mean.MaxRSS['sum']/1344000."
   ]
  },
  {
   "cell_type": "code",
   "execution_count": null,
   "metadata": {
    "collapsed": false
   },
   "outputs": [],
   "source": [
    "#data[data.Start>datetime.datetime(2016,8,1)][\"MaxRSS\"].unique()"
   ]
  },
  {
   "cell_type": "code",
   "execution_count": null,
   "metadata": {
    "collapsed": false
   },
   "outputs": [],
   "source": [
    "# print dialy_mean.columns\n",
    "fig = plt.figure(figsize=(10,10))\n",
    "#plt.plot(monthly_mean.RQTMem['sum'].index, monthly_mean.MaxRSS['sum'].values, label=\"RSS\")\n",
    "plt.plot(monthly_mean.RQTMem['sum'].index, monthly_mean.RQTMem['sum'].values, label=\"Requested\")\n",
    "plt.axhline(y=1344000, color=\"red\", label=\"Max Avail\")\n",
    "plt.xlabel(\"Month\")\n",
    "plt.ylabel(\"Log(Max RAM in GB)\")\n",
    "plt.legend(loc=0)\n",
    "# ax.set_xscale(\"log\")\n",
    "plt.yscale(\"log\")"
   ]
  },
  {
   "cell_type": "code",
   "execution_count": null,
   "metadata": {
    "collapsed": true
   },
   "outputs": [],
   "source": [
    "# There seems to be a 5 orders of magnitude difference between\n",
    "# Requested and MaxRSS (problem with cgroups memory accounting?)\n",
    "# If so, the magnitude of the problem is measured here.\n",
    "# Also causing a 30% usage of the CPUs on the cluster...\n",
    "\n",
    "# This is serious and there seems to be a patch on an available version of SLURM which diminishes this problem."
   ]
  },
  {
   "cell_type": "code",
   "execution_count": null,
   "metadata": {
    "collapsed": true
   },
   "outputs": [],
   "source": [
    "# Please read:\n",
    "# https://groups.google.com/forum/#!topic/slurm-devel/EElKUE0z4c0\n",
    "# http://permalink.gmane.org/gmane.comp.distributed.slurm.devel/6921\n",
    "\n",
    "# The patches NEED to be applied URGENTLY!"
   ]
  },
  {
   "cell_type": "code",
   "execution_count": null,
   "metadata": {
    "collapsed": false
   },
   "outputs": [],
   "source": [
    "data.AllocCPUS.unique()"
   ]
  },
  {
   "cell_type": "code",
   "execution_count": null,
   "metadata": {
    "collapsed": false
   },
   "outputs": [],
   "source": [
    "data[['AllocCPUS']] = data[['AllocCPUS']].apply(pd.to_numeric)"
   ]
  },
  {
   "cell_type": "code",
   "execution_count": null,
   "metadata": {
    "collapsed": false
   },
   "outputs": [],
   "source": [
    "data.AllocCPUS.unique()"
   ]
  },
  {
   "cell_type": "code",
   "execution_count": null,
   "metadata": {
    "collapsed": false
   },
   "outputs": [],
   "source": [
    "plt.figure(figsize=(10,10))\n",
    "data[(data['tiempo']>.1) & (data['tiempo']<100)].tiempo.hist(bins=120)\n",
    "plt.show()"
   ]
  },
  {
   "cell_type": "code",
   "execution_count": null,
   "metadata": {
    "collapsed": false
   },
   "outputs": [],
   "source": [
    "plt.figure(figsize=(10,10))\n",
    "data[(data['tiempo']>2) & (data['tiempo']<100)].tiempo.hist(bins=120)\n",
    "plt.show()"
   ]
  },
  {
   "cell_type": "code",
   "execution_count": null,
   "metadata": {
    "collapsed": false
   },
   "outputs": [],
   "source": [
    "#fdata = data[(data['tiempo']>0.) & (data['tiempo']<2.) & (data['AllocCPUS']>0) & (data['AllocCPUS']<32)]\n",
    "fdata = data[(data['tiempo'] > 0.1) & (data['tiempo'] < 1000) & (data['AllocCPUS']< 128)]\n",
    "print len(fdata)"
   ]
  },
  {
   "cell_type": "code",
   "execution_count": null,
   "metadata": {
    "collapsed": false
   },
   "outputs": [],
   "source": [
    "colormap = 'gnuplot'\n",
    "plt.figure(figsize=(15, 5))\n",
    "plt.subplot(1,2,1)\n",
    "fdata = data[(data['tiempo'] > 0.1) & (data['tiempo'] < 100.) & (data['AllocCPUS'] < 32)]\n",
    "plt.hexbin(fdata.tiempo.values, fdata.AllocCPUS.values, bins='log', gridsize=20, cmap=colormap)\n",
    "plt.xlabel(\"Time (h)\")\n",
    "plt.ylabel(\"Cores (#)\")\n",
    "cb = plt.colorbar()\n",
    "cb.set_label('log10(N)')\n",
    "plt.subplot(1,2,2)\n",
    "fdata = data[(data['tiempo'] > 2) & (data['tiempo'] < 100) & (data['AllocCPUS'] < 32)]\n",
    "plt.hexbin(fdata.tiempo.values, fdata.AllocCPUS.values, bins='log', gridsize=20, cmap=colormap)\n",
    "plt.xlabel(\"Time (h)\")\n",
    "plt.ylabel(\"Cores (#)\")\n",
    "cb = plt.colorbar()\n",
    "cb.set_label('log10(N)')\n",
    "plt.show()"
   ]
  },
  {
   "cell_type": "code",
   "execution_count": null,
   "metadata": {
    "collapsed": false
   },
   "outputs": [],
   "source": []
  },
  {
   "cell_type": "code",
   "execution_count": null,
   "metadata": {
    "collapsed": false
   },
   "outputs": [],
   "source": [
    "data.columns"
   ]
  },
  {
   "cell_type": "code",
   "execution_count": null,
   "metadata": {
    "collapsed": false
   },
   "outputs": [],
   "source": [
    "(data[data['RQTMem']<=256].RQTMem/1000).hist(bins=20)"
   ]
  },
  {
   "cell_type": "code",
   "execution_count": null,
   "metadata": {
    "collapsed": false
   },
   "outputs": [],
   "source": [
    "data.groupby([\"User\"]).sum().columns"
   ]
  },
  {
   "cell_type": "code",
   "execution_count": null,
   "metadata": {
    "collapsed": false,
    "scrolled": false
   },
   "outputs": [],
   "source": [
    "partitions = ['tgac-long', 'tgac-medium', 'tgac-short']\n",
    "fig = plt.figure(figsize=(10,30))\n",
    "cont = 1\n",
    "for dp in partitions:\n",
    "    df = data[(data.Partition == dp)]\n",
    "    dd = df.groupby('User').mean()\n",
    "    ax = plt.subplot(3, 1, cont)\n",
    "    ax.set_title(dp)\n",
    "    ax.plot(dd.AllocCPUS.values, dd.tiempo.values, 'o')\n",
    "    for p in dd.itertuples():\n",
    "        ax.annotate(p[0], xy=(p[1], p[8])) \n",
    "    for x in [1, 8, 16, 32, 64]:\n",
    "        plt.axvline(x)\n",
    "#     ax.set_xscale(\"log\", nonposx='clip')    \n",
    "#     ax.set_yscale(\"log\", nonposx='clip')    \n",
    "    ax.set_xlabel('Mean AllocCPUs')\n",
    "    ax.set_ylabel('Mean time')\n",
    "    cont += 1"
   ]
  },
  {
   "cell_type": "code",
   "execution_count": null,
   "metadata": {
    "collapsed": false
   },
   "outputs": [],
   "source": [
    "partitions = ['tgac-long', 'tgac-medium', 'tgac-short']\n",
    "fig = plt.figure(figsize=(10,30))\n",
    "cont = 1\n",
    "for dp in partitions:\n",
    "    df = data[(data.Partition == dp)]\n",
    "    dd = df.groupby('User').sum()\n",
    "    ax = plt.subplot(3, 1, cont)\n",
    "    ax.set_title(dp)\n",
    "    ax.plot(dd.AllocCPUS.values, dd.tiempo.values, 'o')\n",
    "    for p in dd.itertuples():\n",
    "        ax.annotate(p[0], xy=(p[1], p[8])) \n",
    "    ax.axhline(0.75)\n",
    "    ax.axhline(6)\n",
    "    ax.set_xscale(\"log\", nonposx='clip')\n",
    "    ax.set_yscale(\"log\", nonposx='clip')    \n",
    "    ax.set_xlabel('Total AllocCPUs')\n",
    "    ax.set_ylabel('Total time')\n",
    "    cont += 1"
   ]
  },
  {
   "cell_type": "code",
   "execution_count": null,
   "metadata": {
    "collapsed": false
   },
   "outputs": [],
   "source": [
    "partitions = ['tgac-long', 'tgac-medium', 'tgac-short']\n",
    "fig = plt.figure(figsize=(10,30))\n",
    "cont = 1\n",
    "for dp in partitions:\n",
    "    df = data[(data.Partition == dp)]\n",
    "    dd = df.groupby('User').sum()\n",
    "    dd['Ratio'] = dd['tiempo'] / dd['AllocCPUS']\n",
    "    ax = plt.subplot(3, 1, cont)\n",
    "    ax.set_title(dp)\n",
    "    ax.plot(dd.AllocCPUS.values, dd.Ratio.values, 'o')\n",
    "    for p in dd.itertuples():\n",
    "        ax.annotate(p[0], xy=(p[1], p[8])) \n",
    "    ax.set_xscale(\"log\", nonposx='clip')    \n",
    "    ax.set_yscale(\"log\", nonposx='clip')    \n",
    "    ax.set_xlabel('Total AllocCPUs')\n",
    "    ax.set_ylabel('Total Total time / Alloc cpus')\n",
    "    cont += 1"
   ]
  },
  {
   "cell_type": "code",
   "execution_count": null,
   "metadata": {
    "collapsed": false
   },
   "outputs": [],
   "source": [
    "print (dd[\"tiempo\"] / dd['AllocCPUS']).hist()"
   ]
  },
  {
   "cell_type": "code",
   "execution_count": null,
   "metadata": {
    "collapsed": false
   },
   "outputs": [],
   "source": [
    "df = data[(data.Partition == 'tgac-long') | (data.Partition == 'tgac-medium') | (data.Partition == 'tgac-short')]\n",
    "# df = data[(data.Partition == 'tgac-long')]\n",
    "dd = df.groupby('User').std()\n",
    "fig = plt.figure(figsize=(10,10))\n",
    "ax = plt.subplot(111)\n",
    "ax.plot(dd.AllocCPUS.values, dd.tiempo.values, 'o')\n",
    "for p in dd.itertuples():\n",
    "    ax.annotate(p[0], xy=(p[1], p[2])) \n",
    "# ax.set_xscale(\"log\", nonposx='clip')    \n",
    "# ax.set_yscale(\"log\", nonposx='clip')    \n",
    "ax.set_xlabel('Total AllocCPUs')\n",
    "ax.set_ylabel('Total time')"
   ]
  },
  {
   "cell_type": "code",
   "execution_count": null,
   "metadata": {
    "collapsed": false
   },
   "outputs": [],
   "source": [
    "data['eff'] = data['AllocCPUS']/data['AllocCPUS']\n",
    "adt = data.groupby('User').mean().sort('eff', ascending=False)\n",
    "adt.sort()\n",
    "print adt"
   ]
  },
  {
   "cell_type": "code",
   "execution_count": null,
   "metadata": {
    "collapsed": false
   },
   "outputs": [],
   "source": [
    "leyenda= []\n",
    "for u in data.User.unique()[:10]:\n",
    "    duag = data[data.User == u].groupby('month').sum()\n",
    "    plt.plot(duag.index, duag.AllocCPUS.values, 'o-')\n",
    "    leyenda.append(u)\n",
    "    plt.xlabel('Mean AllocCPUs')\n",
    "    plt.ylabel('Mean time')\n",
    "plt.legend(leyenda, loc=0)"
   ]
  },
  {
   "cell_type": "code",
   "execution_count": null,
   "metadata": {
    "collapsed": false
   },
   "outputs": [],
   "source": [
    "data.columns"
   ]
  },
  {
   "cell_type": "code",
   "execution_count": null,
   "metadata": {
    "collapsed": false
   },
   "outputs": [],
   "source": [
    "#data.Submit.apply(lambda x: datetime.datetime.strptime(x, \"%Y-%m-%dT%H:%M:%S\"))\n",
    "data['year'], data['month'] = data['Start'].dt.year, data['Start'].dt.month"
   ]
  },
  {
   "cell_type": "code",
   "execution_count": null,
   "metadata": {
    "collapsed": false
   },
   "outputs": [],
   "source": [
    "data.columns"
   ]
  },
  {
   "cell_type": "code",
   "execution_count": null,
   "metadata": {
    "collapsed": false,
    "scrolled": false
   },
   "outputs": [],
   "source": [
    "for u in data.User.unique()[:10]:\n",
    "    duag = data[data.User == u].groupby('month').sum()\n",
    "    plt.figure()\n",
    "    plt.title(u)\n",
    "    plt.plot(duag.tiempo.values, duag.AllocCPUS.values, 'o-')\n",
    "    for x, m in duag.iterrows():\n",
    "        plt.annotate(x, xy=(m.tiempo, m.AllocCPUS))\n",
    "    plt.xlabel('Mean AllocCPUs')\n",
    "    plt.ylabel('Mean time')"
   ]
  },
  {
   "cell_type": "code",
   "execution_count": null,
   "metadata": {
    "collapsed": false
   },
   "outputs": [],
   "source": [
    "dd"
   ]
  },
  {
   "cell_type": "code",
   "execution_count": null,
   "metadata": {
    "collapsed": true
   },
   "outputs": [],
   "source": [
    "\n",
    "partitions = ['tgac-long', 'tgac-medium', 'tgac-short']\n",
    "fig = plt.figure(figsize=(10,30))\n",
    "cont = 1\n",
    "for dp in partitions:\n",
    "    df = data[(data.Partition == dp)]\n",
    "    dd = df.groupby('month').mean()\n",
    "    dd.columns\n",
    "    ax = plt.subplot(3, 1, cont)\n",
    "    ax.set_title(dp)\n",
    "    ax.plot(dd.index, dd.tiempo)\n",
    "    ax.plot(dd.index, dd.AllocCPUS)\n",
    "    ax.set_xlabel('Month')\n",
    "    ax.set_ylabel('CPUs')\n",
    "    cont += 1\n",
    "    ax.legend(['time', 'cpus'])"
   ]
  },
  {
   "cell_type": "code",
   "execution_count": null,
   "metadata": {
    "collapsed": true
   },
   "outputs": [],
   "source": [
    "cpu_usage = data.groupby('month').sum().AllocCPUS/24/28\n",
    "print cpu_usage"
   ]
  },
  {
   "cell_type": "code",
   "execution_count": null,
   "metadata": {
    "collapsed": true
   },
   "outputs": [],
   "source": [
    "available_cpus_day = 93*32\n",
    "print available_cpus_day"
   ]
  },
  {
   "cell_type": "code",
   "execution_count": null,
   "metadata": {
    "collapsed": false
   },
   "outputs": [],
   "source": [
    "alloc_cpus_day = 962.\n",
    "float(alloc_cpus_day/available_cpus_day)"
   ]
  },
  {
   "cell_type": "code",
   "execution_count": null,
   "metadata": {
    "collapsed": false
   },
   "outputs": [],
   "source": [
    "available_mem_day = 13.44*1000\n",
    "print available_mem_day, \"TB\""
   ]
  },
  {
   "cell_type": "code",
   "execution_count": null,
   "metadata": {
    "collapsed": false,
    "scrolled": false
   },
   "outputs": [],
   "source": [
    "#df['ReqMem', 'AvailMem', 'ratio'] = data.groupby('month').agg(['sum']).RQTMem/4/7"
   ]
  },
  {
   "cell_type": "code",
   "execution_count": null,
   "metadata": {
    "collapsed": true
   },
   "outputs": [],
   "source": [
    "with pd.option_context('display.max_rows', 999, 'display.max_columns', 3):\n",
    "    print data.groupby(['RExitCode', 'User']).agg(['count']).Comment"
   ]
  },
  {
   "cell_type": "code",
   "execution_count": null,
   "metadata": {
    "collapsed": false
   },
   "outputs": [],
   "source": [
    "data.columns"
   ]
  },
  {
   "cell_type": "code",
   "execution_count": null,
   "metadata": {
    "collapsed": false
   },
   "outputs": [],
   "source": [
    "plt.figure(figsize=(10,10))\n",
    "ax = data.groupby(['RExitCode']).agg(['count']).Comment.plot(kind='bar')\n",
    "ax.set_yscale('log')\n",
    "plt.ylabel(\"Log(Count)\")\n",
    "plt.xlabel('ExitCode')\n",
    "plt.show()"
   ]
  },
  {
   "cell_type": "code",
   "execution_count": null,
   "metadata": {
    "collapsed": false
   },
   "outputs": [],
   "source": [
    "#scatter_matrix(data, alpha=0.2, figsize=(6, 6), diagonal='kde')"
   ]
  }
 ],
 "metadata": {
  "kernelspec": {
   "display_name": "Python 2",
   "language": "python",
   "name": "python2"
  },
  "language_info": {
   "codemirror_mode": {
    "name": "ipython",
    "version": 2
   },
   "file_extension": ".py",
   "mimetype": "text/x-python",
   "name": "python",
   "nbconvert_exporter": "python",
   "pygments_lexer": "ipython2",
   "version": "2.7.12"
  }
 },
 "nbformat": 4,
 "nbformat_minor": 0
}
